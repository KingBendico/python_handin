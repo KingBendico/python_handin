{
 "cells": [
  {
   "cell_type": "markdown",
   "metadata": {},
   "source": [
    "# Week 6 handin"
   ]
  },
  {
   "cell_type": "markdown",
   "metadata": {},
   "source": [
    "## Assignment: Handin Exercise 6\n",
    "\n",
    "\n",
    "Create a module containing a class: TextComparer with the following methods:\n",
    "1. __init__(self, url_list)\n",
    "2. download(url,filename) raises NotFoundException when url returns 404\n",
    "3. multi_download() uses threads to download multiple urls as text and stores filenames as a property\n",
    "4. __iter__() returns an iterator\n",
    "5. __next__() returns the next filename (and stops when there are no more)\n",
    "6. urllist_generator() returns a generator to loop through the urls\n",
    "7. avg_vowels(text) - a rough estimate on readability returns average number of vowels in the words of the text\n",
    "8. hardest_read() returns the filename of the text with the highest vowel score (use all the cpu cores on the computer for this work.\n",
    "\n",
    "### Ex 2\n",
    "Create a notebook and import your module from above\n",
    "1. Find 10 books on https://www.gutenberg.org/browse/scores/top and download them using an object of the class you just created before\n",
    "2. Test the different methods of your class\n",
    "3. Make a bar plot with a sorted list of books on x-axis and avg vowels on y-axis"
   ]
  },
  {
   "cell_type": "markdown",
   "metadata": {},
   "source": [
    "## Status\n",
    "Everything done."
   ]
  },
  {
   "cell_type": "markdown",
   "metadata": {},
   "source": [
    "## Solution part 1"
   ]
  },
  {
   "cell_type": "code",
   "execution_count": 3,
   "metadata": {},
   "outputs": [
    {
     "ename": "NameError",
     "evalue": "name 'Exe1' is not defined",
     "output_type": "error",
     "traceback": [
      "\u001b[0;31m---------------------------------------------------------------------------\u001b[0m",
      "\u001b[0;31mNameError\u001b[0m                                 Traceback (most recent call last)",
      "\u001b[0;32m<ipython-input-3-7e6e1024cfd9>\u001b[0m in \u001b[0;36m<module>\u001b[0;34m\u001b[0m\n\u001b[1;32m     22\u001b[0m     \u001b[0;32mreturn\u001b[0m \u001b[0mlist\u001b[0m\u001b[0;34m(\u001b[0m\u001b[0mres\u001b[0m\u001b[0;34m)\u001b[0m\u001b[0;34m\u001b[0m\u001b[0;34m\u001b[0m\u001b[0m\n\u001b[1;32m     23\u001b[0m \u001b[0;34m\u001b[0m\u001b[0m\n\u001b[0;32m---> 24\u001b[0;31m test = Exe1(['https://api.chucknorris.io/jokes/AH6GX1FOQWKbnXH75Vn-4A', \n\u001b[0m\u001b[1;32m     25\u001b[0m              \u001b[0;34m'https://api.chucknorris.io/jokes/ts2VbLrSR46ypk49NC-1LQ'\u001b[0m\u001b[0;34m,\u001b[0m\u001b[0;34m\u001b[0m\u001b[0;34m\u001b[0m\u001b[0m\n\u001b[1;32m     26\u001b[0m              \u001b[0;34m'https://api.chucknorris.io/jokes/dfeXBQtOTV6Vn15_5y56Ag'\u001b[0m\u001b[0;34m,\u001b[0m\u001b[0;34m\u001b[0m\u001b[0;34m\u001b[0m\u001b[0m\n",
      "\u001b[0;31mNameError\u001b[0m: name 'Exe1' is not defined"
     ]
    }
   ],
   "source": [
    "from concurrent.futures import ThreadPoolExecutor\n",
    "from concurrent.futures import ProcessPoolExecutor\n",
    "import multiprocessing\n",
    "import requests\n",
    "import os\n",
    "import glob\n",
    "\n",
    "if os.path.exists('downloads'):\n",
    "    files = glob.glob('./downloads/*')\n",
    "    for f in files:\n",
    "        os.remove(f) \n",
    "else:\n",
    "    os.makedirs('downloads')\n",
    "    \n",
    "def multithreading(func, args, workers=5):\n",
    "    with ThreadPoolExecutor(workers) as ex:\n",
    "        ex.map(func, args)\n",
    "        \n",
    "def multiprocessing(func, args, workers=multiprocessing.cpu_count()):\n",
    "    with ProcessPoolExecutor(workers) as ex:\n",
    "        res = ex.map(func, args)\n",
    "    return list(res)\n",
    "\n",
    "test = TextComparer(['https://api.chucknorris.io/jokes/AH6GX1FOQWKbnXH75Vn-4A', \n",
    "             'https://api.chucknorris.io/jokes/ts2VbLrSR46ypk49NC-1LQ', \n",
    "             'https://api.chucknorris.io/jokes/dfeXBQtOTV6Vn15_5y56Ag',\n",
    "             'https://api.chucknorris.io/jokes/lSygvqaIRfK6ZbrQz4FosA',\n",
    "             'https://api.chucknorris.io/jokes/2dIYlHo7QNWSA1KMo3mMHQ'])"
   ]
  },
  {
   "cell_type": "code",
   "execution_count": null,
   "metadata": {},
   "outputs": [],
   "source": [
    "# 1.2 some code here with docstrings"
   ]
  },
  {
   "cell_type": "code",
   "execution_count": null,
   "metadata": {},
   "outputs": [],
   "source": [
    "# 1.3"
   ]
  },
  {
   "cell_type": "markdown",
   "metadata": {},
   "source": [
    "## Solution part 2"
   ]
  },
  {
   "cell_type": "code",
   "execution_count": null,
   "metadata": {},
   "outputs": [],
   "source": []
  },
  {
   "cell_type": "code",
   "execution_count": null,
   "metadata": {},
   "outputs": [],
   "source": []
  },
  {
   "cell_type": "code",
   "execution_count": null,
   "metadata": {},
   "outputs": [],
   "source": []
  }
 ],
 "metadata": {
  "kernelspec": {
   "display_name": "Python 3",
   "language": "python",
   "name": "python3"
  },
  "language_info": {
   "codemirror_mode": {
    "name": "ipython",
    "version": 3
   },
   "file_extension": ".py",
   "mimetype": "text/x-python",
   "name": "python",
   "nbconvert_exporter": "python",
   "pygments_lexer": "ipython3",
   "version": "3.7.6"
  }
 },
 "nbformat": 4,
 "nbformat_minor": 4
}
