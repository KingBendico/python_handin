{
 "cells": [
  {
   "cell_type": "markdown",
   "metadata": {},
   "source": [
    "# Week 2 handin"
   ]
  },
  {
   "cell_type": "markdown",
   "metadata": {},
   "source": [
    "## Assignment\n",
    "## Exercise 1\n",
    "1. Create a python file with 3 functions:\n",
    "  1. `def print_file_content(file)` that can print content of a csv file to the console\n",
    "  2. `def write_list_to_file(output_file, lst)` that can take a list of tuple and write each element to a new line in file\n",
    "    1. rewrite the function so that it gets an arbitrary number of strings instead of a list\n",
    "  3. `def read_csv(input_file)` that take a csv file and read each row into a list\n",
    "2. Add a functionality so that the file can be called from cli with 2 arguments\n",
    "  1. path to csv file\n",
    "  2. an argument `--file file_name` that if given will write the content to file_name or otherwise will print it to the console.\n",
    "3. Add a --help cli argument to describe how the module is used  \n",
    "\n",
    "## Exercise 2\n",
    "Create a module called utils.py with the following 5 functions:\n",
    "\n",
    "```python\n",
    "def get_file_names(folderpath,out=output.txt):\n",
    "    \"\"\" takes a path to a folder and writes all filenames in the folder to a specified output file\"\"\"\n",
    "\n",
    "def get_all_file_names(folderpath,out=output.txt):\n",
    "    \"\"\"takes a path to a folder and write all filenames recursively (files of all sub folders too)\"\"\"\n",
    "\n",
    "def print_line_one(file_names):\n",
    "    \"\"\"takes a list of filenames and print the first line of each\"\"\"\n",
    "\n",
    "def print_emails(file_names):\n",
    "    \"\"\"takes a list of filenames and print each line that contains an email (just look for @)\"\"\"\n",
    "\n",
    "def write_headlines(md_files, out=output.txt):\n",
    "    \"\"\"takes a list of md files and writes all headlines (lines starting with #) to a file\"\"\"\n",
    "\n",
    "```\n",
    "Make sure your module can be called both from cli and imported to another module.\n",
    "Create a new module that imports utils.py and test each function."
   ]
  },
  {
   "cell_type": "markdown",
   "metadata": {},
   "source": [
    "## Status\n",
    "Everything done."
   ]
  },
  {
   "cell_type": "markdown",
   "metadata": {},
   "source": [
    "## Solution part 1"
   ]
  },
  {
   "cell_type": "code",
   "execution_count": 1,
   "metadata": {},
   "outputs": [
    {
     "name": "stdout",
     "output_type": "stream",
     "text": [
      "this,is,a,csv,file\n",
      "hello,from,the,other,side\n",
      "i,love,python\n",
      "\n"
     ]
    }
   ],
   "source": [
    "#Exercise 1.1.A\n",
    "from modules import file_with_functions\n",
    "file_with_functions.print_file_content('files/csvfile.csv')"
   ]
  },
  {
   "cell_type": "code",
   "execution_count": 2,
   "metadata": {},
   "outputs": [
    {
     "name": "stdout",
     "output_type": "stream",
     "text": [
      "apple\n",
      "banana\n",
      "cherry\n",
      "cucumber\n",
      "bell pepper\n",
      "green beans\n",
      "\n"
     ]
    }
   ],
   "source": [
    "#Exercise 1.1.B\n",
    "from modules import file_with_functions\n",
    "\n",
    "fruits_tuple = (\"apple\", \"banana\", \"cherry\")\n",
    "vegetables_tuple = (\"cucumber\", \"bell pepper\", \"green beans\")\n",
    "\n",
    "veggies_fruits_list = [fruits_tuple, vegetables_tuple]\n",
    "\n",
    "file_with_functions.write_list_to_file('files/vegetables_fruits_list.txt', veggies_fruits_list)\n",
    "file_with_functions.print_file_content('files/vegetables_fruits_list.txt')"
   ]
  },
  {
   "cell_type": "code",
   "execution_count": 3,
   "metadata": {},
   "outputs": [
    {
     "name": "stdout",
     "output_type": "stream",
     "text": [
      "apple\n",
      "banana\n",
      "cherry\n",
      "mango\n",
      "pineapple\n",
      "\n"
     ]
    }
   ],
   "source": [
    "#Exercise 1.1.B.a\n",
    "from modules import file_with_functions\n",
    "\n",
    "file_with_functions.write_lines_to_file('files/stringsfile.txt', \"apple\", \"banana\", \"cherry\", \"mango\", \"pineapple\")\n",
    "file_with_functions.print_file_content('files/stringsfile.txt')"
   ]
  },
  {
   "cell_type": "code",
   "execution_count": 4,
   "metadata": {},
   "outputs": [
    {
     "data": {
      "text/plain": [
       "[['this', 'is', 'a', 'csv', 'file'],\n",
       " ['hello', 'from', 'the', 'other', 'side'],\n",
       " ['i', 'love', 'python']]"
      ]
     },
     "execution_count": 4,
     "metadata": {},
     "output_type": "execute_result"
    }
   ],
   "source": [
    "#Exercise 1.1.C\n",
    "from modules import file_with_functions\n",
    "\n",
    "file_with_functions.read_csv('files/csvfile.csv')"
   ]
  },
  {
   "cell_type": "code",
   "execution_count": 5,
   "metadata": {},
   "outputs": [],
   "source": [
    "#Exercise 2.A\n",
    "!python modules/file_with_functions.py -i files/csvfile.csv -o files/output_csv.csv"
   ]
  },
  {
   "cell_type": "code",
   "execution_count": 6,
   "metadata": {},
   "outputs": [
    {
     "name": "stdout",
     "output_type": "stream",
     "text": [
      "this,is,a,csv,file\r\n",
      "hello,from,the,other,side\r\n",
      "i,love,python\r\n",
      "\r\n"
     ]
    }
   ],
   "source": [
    "#Exercise 2.B: csvfile.csv\n",
    "!python modules/file_with_functions.py -i files/csvfile.csv "
   ]
  },
  {
   "cell_type": "code",
   "execution_count": 7,
   "metadata": {},
   "outputs": [
    {
     "name": "stdout",
     "output_type": "stream",
     "text": [
      "this,is,a,csv,file\r\n",
      "hello,from,the,other,side\r\n",
      "i,love,python\r\n",
      "\r\n"
     ]
    }
   ],
   "source": [
    "#Exercise 2.B: output_csv.csv\n",
    "!python modules/file_with_functions.py -i files/output_csv.csv"
   ]
  },
  {
   "cell_type": "code",
   "execution_count": 8,
   "metadata": {},
   "outputs": [
    {
     "name": "stdout",
     "output_type": "stream",
     "text": [
      "usage: file_with_functions.py [-h] [-i INPUT_FILE] [-o OUTPUT_FILE]\r\n",
      "\r\n",
      "A program that writes and reads from a csv file\r\n",
      "\r\n",
      "optional arguments:\r\n",
      "  -h, --help      show this help message and exit\r\n",
      "  -i INPUT_FILE   Name of the input file. Must be in the same directory as\r\n",
      "                  this file.\r\n",
      "  -o OUTPUT_FILE  name of the output file.\r\n"
     ]
    }
   ],
   "source": [
    "#Exercise 3: --help\n",
    "!python modules/file_with_functions.py --help"
   ]
  },
  {
   "cell_type": "code",
   "execution_count": 9,
   "metadata": {},
   "outputs": [
    {
     "name": "stdout",
     "output_type": "stream",
     "text": [
      "usage: file_with_functions.py [-h] [-i INPUT_FILE] [-o OUTPUT_FILE]\r\n",
      "\r\n",
      "A program that writes and reads from a csv file\r\n",
      "\r\n",
      "optional arguments:\r\n",
      "  -h, --help      show this help message and exit\r\n",
      "  -i INPUT_FILE   Name of the input file. Must be in the same directory as\r\n",
      "                  this file.\r\n",
      "  -o OUTPUT_FILE  name of the output file.\r\n"
     ]
    }
   ],
   "source": [
    "#Exercise 3: -h\n",
    "!python modules/file_with_functions.py -h"
   ]
  },
  {
   "cell_type": "markdown",
   "metadata": {},
   "source": [
    "## Solution part 2"
   ]
  },
  {
   "cell_type": "code",
   "execution_count": 1,
   "metadata": {},
   "outputs": [
    {
     "name": "stdout",
     "output_type": "stream",
     "text": [
      "-----------------------\n",
      "test 1: get_file_names\n",
      "-----------------------\n",
      "csvfile.csv\n",
      "email.txt\n",
      "output_csv.csv\n",
      "output_get_all_file_names.txt\n",
      "output_get_file_names.txt\n",
      "output_headlines.txt\n",
      "README_USE.md\n",
      "stringsfile.txt\n",
      "subfolder\n",
      "vegetables_fruits_list.txt\n",
      "\n",
      "-----------------------\n",
      "test 2: get_all_file_names\n",
      "-----------------------\n",
      "/subfolder/anotherfile.txt\n",
      "/subfolder/somefile.txt\n",
      "/csvfile.csv\n",
      "/email.txt\n",
      "/output_csv.csv\n",
      "/output_get_all_file_names.txt\n",
      "/output_get_file_names.txt\n",
      "/output_headlines.txt\n",
      "/README_USE.md\n",
      "/stringsfile.txt\n",
      "/vegetables_fruits_list.txt\n",
      "/subfolder\n",
      "\n",
      "-----------------------\n",
      "test 3: print_line_one\n",
      "-----------------------\n",
      "\n",
      "First line in \"files/output_get_all_file_names.txt\":\n",
      "\n",
      "/subfolder/anotherfile.txt\n",
      "\n",
      "-----------------------\n",
      "test 4: print_emails\n",
      "-----------------------\n",
      "\n",
      "e-mails in [files/email.txt]:\n",
      "\n",
      "bob@bob312.dk\n",
      "\n",
      "soren@bob.dk\n",
      "\n",
      "mogens@kalp.com\n",
      "\n",
      "-----------------------\n",
      "test 5: write_headlines\n",
      "-----------------------\n",
      "\n",
      "HEADLINES: \n",
      "# How to use this repo\n",
      "### Compose\n",
      "### Flask\n",
      "### Development with VSCode inside the container context\n",
      "### Mysql server\n",
      "### Flask server\n",
      "### clean up\n",
      "### If not using compose:\n",
      "\n"
     ]
    }
   ],
   "source": [
    "#Exercise 2: modules/utils_test\n",
    "from modules import utils_test"
   ]
  },
  {
   "cell_type": "code",
   "execution_count": 4,
   "metadata": {},
   "outputs": [],
   "source": [
    "# Utils.py CLI"
   ]
  }
 ],
 "metadata": {
  "kernelspec": {
   "display_name": "Python 3",
   "language": "python",
   "name": "python3"
  },
  "language_info": {
   "codemirror_mode": {
    "name": "ipython",
    "version": 3
   },
   "file_extension": ".py",
   "mimetype": "text/x-python",
   "name": "python",
   "nbconvert_exporter": "python",
   "pygments_lexer": "ipython3",
   "version": "3.7.6"
  }
 },
 "nbformat": 4,
 "nbformat_minor": 4
}
