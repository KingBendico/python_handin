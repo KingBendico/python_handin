{
 "cells": [
  {
   "cell_type": "markdown",
   "metadata": {},
   "source": [
    "# Week 6 handin"
   ]
  },
  {
   "cell_type": "markdown",
   "metadata": {},
   "source": [
    "## Assignment: Handin Exercise 6\n",
    "\n",
    "\n",
    "Create a module containing a class: TextComparer with the following methods:\n",
    "1. __init__(self, url_list)\n",
    "2. download(url,filename) raises NotFoundException when url returns 404\n",
    "3. multi_download() uses threads to download multiple urls as text and stores filenames as a property\n",
    "4. __iter__() returns an iterator\n",
    "5. __next__() returns the next filename (and stops when there are no more)\n",
    "6. urllist_generator() returns a generator to loop through the urls\n",
    "7. avg_vowels(text) - a rough estimate on readability returns average number of vowels in the words of the text\n",
    "8. hardest_read() returns the filename of the text with the highest vowel score (use all the cpu cores on the computer for this work.\n",
    "\n",
    "### Ex 2\n",
    "Create a notebook and import your module from above\n",
    "1. Find 10 books on https://www.gutenberg.org/browse/scores/top and download them using an object of the class you just created before\n",
    "2. Test the different methods of your class\n",
    "3. Make a bar plot with a sorted list of books on x-axis and avg vowels on y-axis"
   ]
  },
  {
   "cell_type": "markdown",
   "metadata": {},
   "source": [
    "## Status\n",
    "Everything done."
   ]
  },
  {
   "cell_type": "markdown",
   "metadata": {},
   "source": [
    "## Solution part 1"
   ]
  },
  {
   "cell_type": "code",
   "execution_count": 55,
   "metadata": {},
   "outputs": [
    {
     "name": "stdout",
     "output_type": "stream",
     "text": [
      "[('download_number_1', 5.416666666666667), ('download_number_2', 4.0588235294117645), ('download_number_4', 5.357142857142857), ('download_number_5', 4.5), ('download_number_3', 4.857142857142857)]\n"
     ]
    }
   ],
   "source": [
    "from concurrent.futures import ThreadPoolExecutor\n",
    "from concurrent.futures import ProcessPoolExecutor\n",
    "import multiprocessing\n",
    "import requests\n",
    "import os\n",
    "import glob\n",
    "from modules import w6\n",
    "\n",
    "if os.path.exists('downloads'):\n",
    "    files = glob.glob('./downloads/*')\n",
    "    for f in files:\n",
    "        os.remove(f) \n",
    "else:\n",
    "    os.makedirs('downloads')\n",
    "    \n",
    "def multithreading(func, args, workers=5):\n",
    "    with ThreadPoolExecutor(workers) as ex:\n",
    "        ex.map(func, args)\n",
    "        \n",
    "def multiprocessing(func, args, workers=multiprocessing.cpu_count()):\n",
    "    with ProcessPoolExecutor(workers) as ex:\n",
    "        res = ex.map(func, args)\n",
    "    return list(res)\n",
    "\n",
    "test = TextComparer(['https://api.chucknorris.io/jokes/AH6GX1FOQWKbnXH75Vn-4A', \n",
    "             'https://api.chucknorris.io/jokes/ts2VbLrSR46ypk49NC-1LQ', \n",
    "             'https://api.chucknorris.io/jokes/dfeXBQtOTV6Vn15_5y56Ag',\n",
    "             'https://api.chucknorris.io/jokes/lSygvqaIRfK6ZbrQz4FosA',\n",
    "             'https://api.chucknorris.io/jokes/2dIYlHo7QNWSA1KMo3mMHQ'])\n",
    "#test.download('https://httpbin.org/status/404', 'x')\n",
    "test.download('https://api.chucknorris.io/jokes/random', 'test_file')\n",
    "#print(open(\"downloads/test_file.txt\").read())\n",
    "#test.multi_download()\n",
    "#test.avg_vowels('Call me Ishmael. Some years ago—never mind')\n",
    "#test.hardest_read()\n",
    "#test.download('https://api.chucknorris.io/jokes/random', 'test_file')\n"
   ]
  },
  {
   "cell_type": "code",
   "execution_count": null,
   "metadata": {},
   "outputs": [],
   "source": [
    "# 1.2 some code here with docstrings"
   ]
  },
  {
   "cell_type": "code",
   "execution_count": null,
   "metadata": {},
   "outputs": [],
   "source": [
    "# 1.3"
   ]
  },
  {
   "cell_type": "markdown",
   "metadata": {},
   "source": [
    "## Solution part 2"
   ]
  },
  {
   "cell_type": "code",
   "execution_count": 57,
   "metadata": {},
   "outputs": [
    {
     "name": "stdout",
     "output_type": "stream",
     "text": [
      "[('download_number_2', 1.0573247506543113), ('download_number_4', 1.1642073648472187), ('download_number_6', 1.9231688373760305), ('download_number_8', 1.8624352428161455), ('download_number_9', 1.8602308294209702), ('download_number_7', 1.826423739908357), ('download_number_10', 2.0826639892904955), ('download_number_5', 1.970712349439678), ('download_number_3', 1.883125905873052), ('download_number_1', 1.2127170082234695)]\n"
     ]
    },
    {
     "data": {
      "text/plain": [
       "'download_number_10.txt'"
      ]
     },
     "execution_count": 57,
     "metadata": {},
     "output_type": "execute_result"
    }
   ],
   "source": [
    "book_url_list = ['https://www.gutenberg.org/files/1342/1342-0.txt',\n",
    "                'http://www.gutenberg.org/cache/epub/16328/pg16328.txt',\n",
    "                'https://www.gutenberg.org/files/25344/25344-0.txt',\n",
    "                'https://www.gutenberg.org/files/1250/1250-0.txt',\n",
    "                'https://www.gutenberg.org/files/84/84-0.txt',\n",
    "                'https://www.gutenberg.org/files/1952/1952-0.txt',\n",
    "                'https://www.gutenberg.org/files/11/11-0.txt',\n",
    "                'http://www.gutenberg.org/cache/epub/2542/pg2542.txt',\n",
    "                'http://www.gutenberg.org/cache/epub/23/pg23.txt',\n",
    "                'https://www.gutenberg.org/files/1080/1080-0.txt']\n",
    "\n",
    "classObject = TextComparer(book_url_list)\n",
    "classObject.multi_download()\n",
    "classObject.hardest_read()"
   ]
  },
  {
   "cell_type": "code",
   "execution_count": null,
   "metadata": {},
   "outputs": [],
   "source": []
  },
  {
   "cell_type": "code",
   "execution_count": null,
   "metadata": {},
   "outputs": [],
   "source": []
  }
 ],
 "metadata": {
  "kernelspec": {
   "display_name": "Python 3",
   "language": "python",
   "name": "python3"
  },
  "language_info": {
   "codemirror_mode": {
    "name": "ipython",
    "version": 3
   },
   "file_extension": ".py",
   "mimetype": "text/x-python",
   "name": "python",
   "nbconvert_exporter": "python",
   "pygments_lexer": "ipython3",
   "version": "3.7.6"
  }
 },
 "nbformat": 4,
 "nbformat_minor": 4
}
